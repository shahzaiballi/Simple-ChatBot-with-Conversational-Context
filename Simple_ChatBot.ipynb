{
  "nbformat": 4,
  "nbformat_minor": 0,
  "metadata": {
    "colab": {
      "provenance": [],
      "mount_file_id": "1aYLns8_PFwWp4zs2O4_EOHH-55GrsvU5",
      "authorship_tag": "ABX9TyMTtRDYjWMxA5eD9z6EpSrW",
      "include_colab_link": true
    },
    "kernelspec": {
      "name": "python3",
      "display_name": "Python 3"
    },
    "language_info": {
      "name": "python"
    }
  },
  "cells": [
    {
      "cell_type": "markdown",
      "metadata": {
        "id": "view-in-github",
        "colab_type": "text"
      },
      "source": [
        "<a href=\"https://colab.research.google.com/github/shahzaiballi/Simple-ChatBot-with-Conversational-Context/blob/main/Simple_ChatBot.ipynb\" target=\"_parent\"><img src=\"https://colab.research.google.com/assets/colab-badge.svg\" alt=\"Open In Colab\"/></a>"
      ]
    },
    {
      "cell_type": "code",
      "execution_count": null,
      "metadata": {
        "colab": {
          "base_uri": "https://localhost:8080/",
          "height": 211
        },
        "id": "N7Om-19HKS1X",
        "outputId": "e9bc856c-24cb-4f8e-c9dc-c9842453eebb"
      },
      "outputs": [
        {
          "output_type": "stream",
          "name": "stdout",
          "text": [
            "Welcome to the Gemini Chatbot! Type 'exit' to close the conversation.\n",
            "\n",
            "You: Hi I am Shahzaib Ali\n",
            "Gemini: Hi Shahzaib Ali, it's nice to meet you.  How can I help you today?\n",
            "You: Tell me in 1 line what is Agentic Ai\n",
            "Gemini: Agentic AI is AI that acts autonomously to achieve a defined goal.\n",
            "You: Okay now tell me what is the meaning of my name\n",
            "Gemini: Gemini: The name Shahzaib Ali is of Arabic origin.  Shahzaib means \"brave prince\" or \"prince of bravery,\" while Ali is a common and revered name meaning \"supreme,\" \"exalted,\" or \"lofty.\"\n",
            "You: exit\n",
            "Exiting the chat. Goodbye!\n"
          ]
        }
      ],
      "source": [
        "import google.generativeai as genai\n",
        "from google.colab import userdata\n",
        "\n",
        "# Configure API key\n",
        "api = userdata.get('Gemini')\n",
        "genai.configure(api_key=api)\n",
        "model = genai.GenerativeModel(\"gemini-1.5-flash\")\n",
        "\n",
        "# Initialize chat history\n",
        "chat_history = []\n",
        "\n",
        "print(\"Welcome to the Gemini Chatbot! Type 'exit' to close the conversation.\\n\")\n",
        "\n",
        "while True:\n",
        "    # User input\n",
        "    user_input = input(\"You: \").strip()\n",
        "    if user_input.lower() == 'exit':\n",
        "        print(\"Exiting the chat. Goodbye!\")\n",
        "        break\n",
        "\n",
        "    # Add user input to history\n",
        "    chat_history.append(f\"You: {user_input}\")\n",
        "\n",
        "    # Combine history for context\n",
        "    context = \"\\n\".join(chat_history)\n",
        "\n",
        "    # Generate response\n",
        "    response = model.generate_content(context)\n",
        "\n",
        "    # Get the bot's response text\n",
        "    bot_response = response.text.strip()\n",
        "\n",
        "    # Add bot response to history\n",
        "    chat_history.append(f\"Gemini: {bot_response}\")\n",
        "\n",
        "    # Display the bot's response\n",
        "    print(f\"Gemini: {bot_response}\")\n"
      ]
    }
  ]
}